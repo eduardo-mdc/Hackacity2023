{
 "cells": [
  {
   "cell_type": "markdown",
   "metadata": {},
   "source": [
    "# Pre-Processing\n",
    "\n",
    "## 1.Importing the libraries"
   ]
  },
  {
   "cell_type": "code",
   "execution_count": 22,
   "metadata": {},
   "outputs": [],
   "source": [
    "import pandas as pd\n",
    "%matplotlib inline\n",
    "pd.set_option('display.float_format', lambda x: '%.3f' % x)\n",
    "import matplotlib.pyplot as plt\n",
    "import seaborn as sb\n",
    "import numpy as np\n",
    "import os"
   ]
  },
  {
   "cell_type": "markdown",
   "metadata": {},
   "source": [
    "## 2. Importing the datasets\n",
    "\n",
    "Note : the output.csv file is generated using the json-to-csv script with all of the json files in the same directory as the script as input"
   ]
  },
  {
   "cell_type": "code",
   "execution_count": 23,
   "metadata": {},
   "outputs": [
    {
     "name": "stderr",
     "output_type": "stream",
     "text": [
      "/tmp/ipykernel_32429/1233871091.py:5: FutureWarning: In a future version of pandas, parsing datetimes with mixed time zones will raise an error unless `utc=True`. Please specify `utc=True` to opt in to the new behaviour and silence this warning. To create a `Series` with mixed offsets and `object` dtype, please use `apply` and `datetime.datetime.strptime`\n",
      "  traffic_data['dateObservedFrom'] = pd.to_datetime(traffic_data['dateObservedFrom'], errors='coerce')\n"
     ]
    }
   ],
   "source": [
    "#-- Traffic Data -- \n",
    "traffic_data = pd.read_csv(\"Datasets/Traffic Detectors/Data/2023/April/output.csv\")\n",
    "traffic_data['intensity'] = pd.to_numeric(traffic_data['intensity'], errors='coerce')\n",
    "traffic_data['occupancy'] = pd.to_numeric(traffic_data['occupancy'], errors='coerce')\n",
    "traffic_data['dateObservedFrom'] = pd.to_datetime(traffic_data['dateObservedFrom'], errors='coerce')\n",
    "\n",
    "\n",
    "\n",
    "\n"
   ]
  },
  {
   "cell_type": "code",
   "execution_count": 24,
   "metadata": {},
   "outputs": [
    {
     "data": {
      "text/html": [
       "<div>\n",
       "<style scoped>\n",
       "    .dataframe tbody tr th:only-of-type {\n",
       "        vertical-align: middle;\n",
       "    }\n",
       "\n",
       "    .dataframe tbody tr th {\n",
       "        vertical-align: top;\n",
       "    }\n",
       "\n",
       "    .dataframe thead th {\n",
       "        text-align: right;\n",
       "    }\n",
       "</style>\n",
       "<table border=\"1\" class=\"dataframe\">\n",
       "  <thead>\n",
       "    <tr style=\"text-align: right;\">\n",
       "      <th></th>\n",
       "      <th>intensity</th>\n",
       "      <th>occupancy</th>\n",
       "    </tr>\n",
       "  </thead>\n",
       "  <tbody>\n",
       "    <tr>\n",
       "      <th>count</th>\n",
       "      <td>2787572.000</td>\n",
       "      <td>2787572.000</td>\n",
       "    </tr>\n",
       "    <tr>\n",
       "      <th>mean</th>\n",
       "      <td>173.614</td>\n",
       "      <td>12.649</td>\n",
       "    </tr>\n",
       "    <tr>\n",
       "      <th>std</th>\n",
       "      <td>235.795</td>\n",
       "      <td>21.639</td>\n",
       "    </tr>\n",
       "    <tr>\n",
       "      <th>min</th>\n",
       "      <td>0.000</td>\n",
       "      <td>0.000</td>\n",
       "    </tr>\n",
       "    <tr>\n",
       "      <th>25%</th>\n",
       "      <td>18.000</td>\n",
       "      <td>0.000</td>\n",
       "    </tr>\n",
       "    <tr>\n",
       "      <th>50%</th>\n",
       "      <td>90.000</td>\n",
       "      <td>3.000</td>\n",
       "    </tr>\n",
       "    <tr>\n",
       "      <th>75%</th>\n",
       "      <td>258.000</td>\n",
       "      <td>14.000</td>\n",
       "    </tr>\n",
       "    <tr>\n",
       "      <th>max</th>\n",
       "      <td>12504.000</td>\n",
       "      <td>100.000</td>\n",
       "    </tr>\n",
       "  </tbody>\n",
       "</table>\n",
       "</div>"
      ],
      "text/plain": [
       "        intensity   occupancy\n",
       "count 2787572.000 2787572.000\n",
       "mean      173.614      12.649\n",
       "std       235.795      21.639\n",
       "min         0.000       0.000\n",
       "25%        18.000       0.000\n",
       "50%        90.000       3.000\n",
       "75%       258.000      14.000\n",
       "max     12504.000     100.000"
      ]
     },
     "execution_count": 24,
     "metadata": {},
     "output_type": "execute_result"
    }
   ],
   "source": [
    "traffic_data.describe()"
   ]
  },
  {
   "cell_type": "markdown",
   "metadata": {},
   "source": [
    "## 3. Cleaning and Importing Datasets\n",
    "\n",
    "### 3.1 Traffic Data"
   ]
  },
  {
   "cell_type": "code",
   "execution_count": 25,
   "metadata": {},
   "outputs": [
    {
     "name": "stdout",
     "output_type": "stream",
     "text": [
      "dateObservedFrom    0\n",
      "dateObservedTo      0\n",
      "id                  0\n",
      "location            0\n",
      "intensity           0\n",
      "occupancy           0\n",
      "dtype: int64\n"
     ]
    },
    {
     "data": {
      "text/html": [
       "<div>\n",
       "<style scoped>\n",
       "    .dataframe tbody tr th:only-of-type {\n",
       "        vertical-align: middle;\n",
       "    }\n",
       "\n",
       "    .dataframe tbody tr th {\n",
       "        vertical-align: top;\n",
       "    }\n",
       "\n",
       "    .dataframe thead th {\n",
       "        text-align: right;\n",
       "    }\n",
       "</style>\n",
       "<table border=\"1\" class=\"dataframe\">\n",
       "  <thead>\n",
       "    <tr style=\"text-align: right;\">\n",
       "      <th></th>\n",
       "      <th>intensity</th>\n",
       "      <th>occupancy</th>\n",
       "    </tr>\n",
       "  </thead>\n",
       "  <tbody>\n",
       "    <tr>\n",
       "      <th>count</th>\n",
       "      <td>2787563.000</td>\n",
       "      <td>2787563.000</td>\n",
       "    </tr>\n",
       "    <tr>\n",
       "      <th>mean</th>\n",
       "      <td>173.615</td>\n",
       "      <td>12.649</td>\n",
       "    </tr>\n",
       "    <tr>\n",
       "      <th>std</th>\n",
       "      <td>235.795</td>\n",
       "      <td>21.639</td>\n",
       "    </tr>\n",
       "    <tr>\n",
       "      <th>min</th>\n",
       "      <td>0.000</td>\n",
       "      <td>0.000</td>\n",
       "    </tr>\n",
       "    <tr>\n",
       "      <th>25%</th>\n",
       "      <td>18.000</td>\n",
       "      <td>0.000</td>\n",
       "    </tr>\n",
       "    <tr>\n",
       "      <th>50%</th>\n",
       "      <td>90.000</td>\n",
       "      <td>3.000</td>\n",
       "    </tr>\n",
       "    <tr>\n",
       "      <th>75%</th>\n",
       "      <td>258.000</td>\n",
       "      <td>14.000</td>\n",
       "    </tr>\n",
       "    <tr>\n",
       "      <th>max</th>\n",
       "      <td>12504.000</td>\n",
       "      <td>100.000</td>\n",
       "    </tr>\n",
       "  </tbody>\n",
       "</table>\n",
       "</div>"
      ],
      "text/plain": [
       "        intensity   occupancy\n",
       "count 2787563.000 2787563.000\n",
       "mean      173.615      12.649\n",
       "std       235.795      21.639\n",
       "min         0.000       0.000\n",
       "25%        18.000       0.000\n",
       "50%        90.000       3.000\n",
       "75%       258.000      14.000\n",
       "max     12504.000     100.000"
      ]
     },
     "execution_count": 25,
     "metadata": {},
     "output_type": "execute_result"
    }
   ],
   "source": [
    "\n",
    "# Check for missing values\n",
    "print(traffic_data.isnull().sum())\n",
    "\n",
    "# Drop duplicates\n",
    "traffic_data.drop_duplicates(inplace=True)\n",
    "traffic_data.describe()\n"
   ]
  },
  {
   "cell_type": "markdown",
   "metadata": {},
   "source": [
    "### 3.2 Parking Lots"
   ]
  },
  {
   "cell_type": "code",
   "execution_count": 26,
   "metadata": {},
   "outputs": [
    {
     "data": {
      "text/html": [
       "<div>\n",
       "<style scoped>\n",
       "    .dataframe tbody tr th:only-of-type {\n",
       "        vertical-align: middle;\n",
       "    }\n",
       "\n",
       "    .dataframe tbody tr th {\n",
       "        vertical-align: top;\n",
       "    }\n",
       "\n",
       "    .dataframe thead th {\n",
       "        text-align: right;\n",
       "    }\n",
       "</style>\n",
       "<table border=\"1\" class=\"dataframe\">\n",
       "  <thead>\n",
       "    <tr style=\"text-align: right;\">\n",
       "      <th></th>\n",
       "      <th>total_spaces</th>\n",
       "      <th>available_spaces</th>\n",
       "    </tr>\n",
       "  </thead>\n",
       "  <tbody>\n",
       "    <tr>\n",
       "      <th>count</th>\n",
       "      <td>860332.000</td>\n",
       "      <td>860332.000</td>\n",
       "    </tr>\n",
       "    <tr>\n",
       "      <th>mean</th>\n",
       "      <td>256.957</td>\n",
       "      <td>214.871</td>\n",
       "    </tr>\n",
       "    <tr>\n",
       "      <th>std</th>\n",
       "      <td>156.372</td>\n",
       "      <td>109.353</td>\n",
       "    </tr>\n",
       "    <tr>\n",
       "      <th>min</th>\n",
       "      <td>0.000</td>\n",
       "      <td>-22.000</td>\n",
       "    </tr>\n",
       "    <tr>\n",
       "      <th>25%</th>\n",
       "      <td>250.000</td>\n",
       "      <td>189.000</td>\n",
       "    </tr>\n",
       "    <tr>\n",
       "      <th>50%</th>\n",
       "      <td>250.000</td>\n",
       "      <td>244.000</td>\n",
       "    </tr>\n",
       "    <tr>\n",
       "      <th>75%</th>\n",
       "      <td>250.000</td>\n",
       "      <td>250.000</td>\n",
       "    </tr>\n",
       "    <tr>\n",
       "      <th>max</th>\n",
       "      <td>893.000</td>\n",
       "      <td>798.000</td>\n",
       "    </tr>\n",
       "  </tbody>\n",
       "</table>\n",
       "</div>"
      ],
      "text/plain": [
       "       total_spaces  available_spaces\n",
       "count    860332.000        860332.000\n",
       "mean        256.957           214.871\n",
       "std         156.372           109.353\n",
       "min           0.000           -22.000\n",
       "25%         250.000           189.000\n",
       "50%         250.000           244.000\n",
       "75%         250.000           250.000\n",
       "max         893.000           798.000"
      ]
     },
     "execution_count": 26,
     "metadata": {},
     "output_type": "execute_result"
    }
   ],
   "source": [
    "#-- Parking Lots --\n",
    "\n",
    "# Directory where CSV files are located\n",
    "csv_dir = 'Datasets/CMP_parkingLots'\n",
    "\n",
    "# List of CSV files\n",
    "csv_files = [\n",
    "    'parque_cardosas_m.csv',\n",
    "    'parque_casa_da_musica_pcm_m.csv',\n",
    "    'parque_loule_m.csv',\n",
    "    'parque_palacio_da_justica_m.csv',\n",
    "    'parque_praca_lisboa_m.csv',\n",
    "    'parque_ribeira_m.csv',\n",
    "    'parque_trindade_m.csv'\n",
    "]\n",
    "\n",
    "# Initialize an empty DataFrame to store the combined data\n",
    "combined_data = pd.DataFrame()\n",
    "\n",
    "# Iterate through each CSV file\n",
    "for csv_file in csv_files:\n",
    "    file_path = os.path.join(csv_dir, csv_file)\n",
    "\n",
    "    # Read the CSV file\n",
    "    df = pd.read_csv(file_path)\n",
    "\n",
    "    if 'occupied_spaces' in df.columns:\n",
    "        # Replace negative 'occupied_spaces' values with 0\n",
    "        df['occupied_spaces'] = df['occupied_spaces'].apply(lambda x: max(0, x))\n",
    "\n",
    "    # Add a column indicating the source file\n",
    "    df['source_file'] = csv_file\n",
    "\n",
    "    # Handle differences in column names\n",
    "    if 'occupied_spaces' in df.columns and 'total_spaces' in df.columns:\n",
    "        # Calculate 'available_spaces' by subtracting 'occupied_spaces' from 'total_spaces'\n",
    "\n",
    "\n",
    "        df['available_spaces'] = df['total_spaces'] - df['occupied_spaces']\n",
    "    elif 'available_spaces' not in df.columns and 'occupied_spaces' in df.columns:\n",
    "        # If 'available_spaces' column is not present, and 'occupied_spaces' is present\n",
    "        df['available_spaces'] = df['total_spaces'] - df['occupied_spaces']\n",
    "    elif 'occupied_spaces' not in df.columns and 'available_spaces' in df.columns:\n",
    "        # If 'occupied_spaces' column is not present, and 'available_spaces' is present\n",
    "        pass  # No need to modify the DataFrame\n",
    "    else:\n",
    "        # Handle other cases as needed\n",
    "        raise ValueError(f\"Unsupported column structure in file: {csv_file}\")\n",
    "    \n",
    "    if 'occupied_spaces' in df.columns:\n",
    "        # Drop 'occupied_spaces' column\n",
    "        df.drop('occupied_spaces', axis=1, inplace=True)\n",
    "\n",
    "    # Concatenate the data to the combined DataFrame\n",
    "    combined_data = pd.concat([combined_data, df], ignore_index=True)\n",
    "\n",
    "combined_data.to_csv('Datasets/CMP_parkingLots/output.csv', index=False)\n",
    "\n",
    "\n",
    "# Display the combined DataFrame\n",
    "combined_data.head()\n",
    "combined_data.describe()"
   ]
  },
  {
   "cell_type": "markdown",
   "metadata": {},
   "source": [
    "## 3. Visualizing the data"
   ]
  },
  {
   "cell_type": "code",
   "execution_count": 73,
   "metadata": {},
   "outputs": [
    {
     "data": {
      "image/png": "[encoded data removed]",
      "text/plain": [
       "<Figure size 640x480 with 2 Axes>"
      ]
     },
     "metadata": {},
     "output_type": "display_data"
    }
   ],
   "source": [
    "# Convert date columns to datetime objects\n",
    "traffic_data['dateObservedFrom'] = pd.to_datetime(traffic_data['dateObservedFrom'], errors='coerce')\n",
    "\n",
    "# Set 'dateObservedFrom' to midnight\n",
    "traffic_data['dateObservedFrom'] = traffic_data['dateObservedFrom'].dt.normalize()\n",
    "\n",
    "# Create a subplot with 2 rows and 1 column\n",
    "plt.subplot(2, 1, 1)\n",
    "\n",
    "# Line plot for 'intensity' over time\n",
    "sb.lineplot(x='dateObservedFrom', y='intensity', data=traffic_data)\n",
    "plt.title('Traffic Intensity Over Time')\n",
    "plt.xlabel('Time (Month)')\n",
    "plt.ylabel('Intensity')\n",
    "plt.xticks([])\n",
    "\n",
    "# Create a subplot with 2 rows and 1 column, and set the current subplot to the second one\n",
    "plt.subplot(2, 1, 2)\n",
    "\n",
    "# Line plot for 'occupancy' over time\n",
    "sb.lineplot(x='dateObservedFrom', y='occupancy', data=traffic_data)\n",
    "plt.title('Traffic Occupancy Over Time')\n",
    "plt.xlabel('Time (Month)')\n",
    "plt.ylabel('Occupancy')\n",
    "plt.xticks([])\n",
    "\n",
    "# Adjust layout for better spacing\n",
    "plt.tight_layout()\n",
    "\n",
    "# Show the combined plot\n",
    "plt.show()\n"
   ]
  }
 ],
 "metadata": {
  "kernelspec": {
   "display_name": "Python 3",
   "language": "python",
   "name": "python3"
  },
  "language_info": {
   "codemirror_mode": {
    "name": "ipython",
    "version": 3
   },
   "file_extension": ".py",
   "mimetype": "text/x-python",
   "name": "python",
   "nbconvert_exporter": "python",
   "pygments_lexer": "ipython3",
   "version": "3.11.6"
  }
 },
 "nbformat": 4,
 "nbformat_minor": 2
}
